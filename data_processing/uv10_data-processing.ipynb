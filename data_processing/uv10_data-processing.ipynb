{
 "cells": [
  {
   "cell_type": "code",
   "execution_count": null,
   "metadata": {},
   "outputs": [],
   "source": [
    "#!/usr/bin/env python"
   ]
  },
  {
   "cell_type": "markdown",
   "metadata": {},
   "source": [
    "# UV10_animation.ipynb"
   ]
  },
  {
   "cell_type": "raw",
   "metadata": {},
   "source": [
    "#!/usr/bin/env python\n",
    "''' \n",
    "   UV10_animation.ipynb\n",
    "\n",
    "   This program needs preprocessed data from:\n",
    "   projects/2020_CONUS404/programs/CONUS404_preprocessor/2D_variables/Vars_to_Monthly_NetCDFs.sh\n",
    "   \n",
    "   It reads in houlry 10m wind speed from ERA5 and CONUS404 and plots\n",
    "   maps that can be animated afterward\n",
    "\n",
    "'''"
   ]
  },
  {
   "cell_type": "code",
   "execution_count": 1,
   "metadata": {},
   "outputs": [],
   "source": [
    "import numpy as np\n",
    "from scipy import stats\n",
    "import matplotlib.pyplot as plt\n",
    "from netCDF4 import Dataset\n",
    "import netCDF4\n",
    "import glob\n",
    "import os\n",
    "from pdb import set_trace as stop\n",
    "from scipy.ndimage.filters import gaussian_filter\n",
    "from scipy.ndimage import median_filter\n",
    "from scipy.ndimage import label\n",
    "from matplotlib import cm\n",
    "from scipy import ndimage\n",
    "import random\n",
    "import scipy\n",
    "import pickle\n",
    "import datetime\n",
    "import pandas as pd\n",
    "import subprocess\n",
    "from calendar import monthrange\n",
    "import pandas as pd\n",
    "import datetime\n",
    "import sys \n",
    "import shapefile as shp\n",
    "import matplotlib.path as mplPath\n",
    "from scipy.stats import norm\n",
    "import matplotlib.gridspec as gridspec\n",
    "# from mpl_toolkits.basemap import Basemap, cm\n",
    "from matplotlib.colors import LinearSegmentedColormap\n",
    "import matplotlib.gridspec as gridspec\n",
    "from pylab import *\n",
    "import string\n",
    "from matplotlib.patches import Polygon\n",
    "from matplotlib.collections import PatchCollection\n",
    "import shapefile\n",
    "from calendar import monthrange\n",
    "from tqdm import tqdm\n",
    "import seaborn as sns\n",
    "import xarray as xr\n",
    "\n",
    "\n",
    "def distance(origin, destination):\n",
    "    lat1, lon1 = origin\n",
    "    lat2, lon2 = destination\n",
    "    radius = 6371 # km\n",
    "\n",
    "    dlat = math.radians(lat2-lat1)\n",
    "    dlon = math.radians(lon2-lon1)\n",
    "    a = math.sin(dlat/2) * math.sin(dlat/2) + math.cos(math.radians(lat1)) \\\n",
    "        * math.cos(math.radians(lat2)) * math.sin(dlon/2) * math.sin(dlon/2)\n",
    "    c = 2 * math.atan2(math.sqrt(a), math.sqrt(1-a))\n",
    "    d = radius * c\n",
    "\n",
    "    return d\n",
    "\n",
    "def runningMeanFast(x, N):\n",
    "    return np.convolve(x, np.ones((N,))/N)[(N-1):]\n",
    "\n",
    "def haversine(lon1, lat1, lon2, lat2):\n",
    "    \"\"\"\n",
    "    Calculate the great circle distance between two points\n",
    "    on the earth (specified in decimal degrees)\n",
    "    \"\"\"\n",
    "    # convert decimal degrees to radians\n",
    "    lon1, lat1, lon2, lat2 = map(radians, [lon1, lat1, lon2, lat2])\n",
    "    # haversine formula\n",
    "    dlon = lon2 - lon1\n",
    "    dlat = lat2 - lat1\n",
    "    a = sin(dlat/2)**2 + cos(lat1) * cos(lat2) * sin(dlon/2)**2\n",
    "    c = 2 * asin(sqrt(a))\n",
    "    km = 6367 * c\n",
    "    return km\n"
   ]
  },
  {
   "cell_type": "markdown",
   "metadata": {},
   "source": [
    "###  Read CONUS404 data"
   ]
  },
  {
   "cell_type": "code",
   "execution_count": 20,
   "metadata": {},
   "outputs": [],
   "source": [
    "YYYY = 1980 #int(sys.argv[1])\n",
    "\n",
    "\n",
    "TimeHH = pd.date_range(datetime.datetime(YYYY, 1, 1,0), end=datetime.datetime(YYYY, 12, 31,23), freq='h')\n",
    "TimeMM = pd.date_range(datetime.datetime(YYYY, 1, 1,0), end=datetime.datetime(YYYY, 12, 31,23), freq='m')\n",
    "PlotDir = '/glade/campaign/mmm/c3we/prein/CONUS404/plots/UV10_animation/'+ str(TimeHH[0])[:10] + '-' +str(TimeHH[-1])[:10] + '/'\n",
    "if not os.path.exists(PlotDir):\n",
    "    os.makedirs(PlotDir)\n",
    "    \n",
    "# WRF\n",
    "WRFdir = '/glade/campaign/ncar/USGS_Water/CONUS404/' \n",
    "WRFvar = ['U10','V10']\n",
    "\n",
    "lon_start = 0\n",
    "lon_stop = 1366\n",
    "\n",
    "out_dir = '/glade/campaign/mmm/c3we/prein/CONUS404/data/MonthlyData/uv10/'"
   ]
  },
  {
   "cell_type": "code",
   "execution_count": 3,
   "metadata": {},
   "outputs": [],
   "source": [
    "ncid=Dataset('/glade/campaign/mmm/c3we/prein/CONUS404/data/MonthlyData/wrfout_conus404_constants.nc', mode='r')\n",
    "lon_wrf=np.squeeze(ncid.variables['XLONG'][:,:,lon_start:lon_stop])\n",
    "lat_wrf=np.squeeze(ncid.variables['XLAT'][:,:,lon_start:lon_stop])\n",
    "ncid.close()\n",
    "lon_wrf[lon_wrf > 180] = lon_wrf[lon_wrf > 180]-360"
   ]
  },
  {
   "cell_type": "code",
   "execution_count": 4,
   "metadata": {},
   "outputs": [
    {
     "name": "stderr",
     "output_type": "stream",
     "text": [
      "100%|██████████| 1/1 [02:45<00:00, 165.29s/it]\n"
     ]
    }
   ],
   "source": [
    "wrf_data = np.zeros((len(TimeHH),lon_wrf.shape[0],lon_wrf.shape[1],len(WRFvar)), dtype=np.float16); wrf_data[:] = np.nan\n",
    "\n",
    "DataFolder = '/glade/campaign/mmm/c3we/prein/CONUS404/data/MonthlyData/'\n",
    "for mm in tqdm(range(len(TimeMM))[:1]):\n",
    "    YYYY = TimeMM[mm].year\n",
    "    MM = TimeMM[mm].month\n",
    "    rgiHours = (TimeHH.year == YYYY) & (TimeHH.month == MM)\n",
    "    File_act = DataFolder + 'U10_'+str(YYYY)+str(MM).zfill(2)+'_CONUS404.nc'\n",
    "    ds_disk = xr.open_dataset(File_act)\n",
    "    wrf_data[rgiHours,:,:,0] = np.array(ds_disk['U10'][:,:,lon_start:lon_stop], dtype=np.float16)\n",
    "    File_act = DataFolder + 'V10_'+str(YYYY)+str(MM).zfill(2)+'_CONUS404.nc'\n",
    "    ds_disk = xr.open_dataset(File_act)\n",
    "    wrf_data[rgiHours,:,:,1] = np.array(ds_disk['V10'][:,:,lon_start:lon_stop], dtype=np.float16)\n",
    "    "
   ]
  },
  {
   "cell_type": "code",
   "execution_count": 8,
   "metadata": {},
   "outputs": [],
   "source": [
    "wrf_uv10 = (wrf_data[:,:,:,0]**2 + wrf_data[:,:,:,1]**2)**0.5"
   ]
  },
  {
   "cell_type": "code",
   "execution_count": 10,
   "metadata": {},
   "outputs": [
    {
     "name": "stderr",
     "output_type": "stream",
     "text": [
      "100%|██████████| 1/1 [00:35<00:00, 35.82s/it]\n"
     ]
    }
   ],
   "source": [
    "# calculate monthly statistics\n",
    "metrics = ['<1','mean','max']\n",
    "wrf_uv10_mean = np.zeros((12,lon_wrf.shape[0],lon_wrf.shape[1], len(metrics)), dtype=np.float16); wrf_uv10_mean[:] = np.nan\n",
    "\n",
    "for mm in tqdm(range(12)[:1]):\n",
    "    time_sel = np.isin(TimeHH.month, [mm+1])\n",
    "    data_mm = wrf_uv10[time_sel,:,:]\n",
    "    for me in range(len(metrics)):\n",
    "        if metrics[me] == '<1':\n",
    "            wrf_uv10_mean[mm,:,:,me] = np.nansum(data_mm[:,:,:] < 1, axis=0)/np.nansum(time_sel)\n",
    "        elif metrics[me] == 'mean':\n",
    "            wrf_uv10_mean[mm,:,:,me] = np.nanmean(data_mm[:,:,:], axis=0)\n",
    "        elif metrics[me] == 'max':\n",
    "            wrf_uv10_mean[mm,:,:,me] = np.nanmax(data_mm[:,:,:], axis=0)\n",
    "        else:\n",
    "            continue\n"
   ]
  },
  {
   "cell_type": "code",
   "execution_count": null,
   "metadata": {},
   "outputs": [],
   "source": []
  },
  {
   "cell_type": "code",
   "execution_count": 21,
   "metadata": {},
   "outputs": [
    {
     "ename": "KeyboardInterrupt",
     "evalue": "",
     "output_type": "error",
     "traceback": [
      "\u001b[0;31m---------------------------------------------------------------------------\u001b[0m",
      "\u001b[0;31mKeyboardInterrupt\u001b[0m                         Traceback (most recent call last)",
      "\u001b[0;32m<ipython-input-21-bd27a59723f0>\u001b[0m in \u001b[0;36m<module>\u001b[0;34m\u001b[0m\n\u001b[1;32m      5\u001b[0m         \u001b[0mTimeHH\u001b[0m \u001b[0;34m=\u001b[0m \u001b[0mTimeHH\u001b[0m\u001b[0;34m,\u001b[0m\u001b[0;34m\u001b[0m\u001b[0;34m\u001b[0m\u001b[0m\n\u001b[1;32m      6\u001b[0m         \u001b[0mlon_wrf\u001b[0m \u001b[0;34m=\u001b[0m \u001b[0mlon_wrf\u001b[0m\u001b[0;34m,\u001b[0m\u001b[0;34m\u001b[0m\u001b[0;34m\u001b[0m\u001b[0m\n\u001b[0;32m----> 7\u001b[0;31m         lat_wrf = lat_wrf)\n\u001b[0m",
      "\u001b[0;32m<__array_function__ internals>\u001b[0m in \u001b[0;36msavez\u001b[0;34m(*args, **kwargs)\u001b[0m\n",
      "\u001b[0;32m/glade/u/apps/dav/opt/python/3.7.9/gnu/9.1.0/pkg-library/20201220/lib/python3.7/site-packages/numpy/lib/npyio.py\u001b[0m in \u001b[0;36msavez\u001b[0;34m(file, *args, **kwds)\u001b[0m\n\u001b[1;32m    643\u001b[0m     \u001b[0marray\u001b[0m\u001b[0;34m(\u001b[0m\u001b[0;34m[\u001b[0m\u001b[0;36m0\u001b[0m\u001b[0;34m,\u001b[0m \u001b[0;36m1\u001b[0m\u001b[0;34m,\u001b[0m \u001b[0;36m2\u001b[0m\u001b[0;34m,\u001b[0m \u001b[0;36m3\u001b[0m\u001b[0;34m,\u001b[0m \u001b[0;36m4\u001b[0m\u001b[0;34m,\u001b[0m \u001b[0;36m5\u001b[0m\u001b[0;34m,\u001b[0m \u001b[0;36m6\u001b[0m\u001b[0;34m,\u001b[0m \u001b[0;36m7\u001b[0m\u001b[0;34m,\u001b[0m \u001b[0;36m8\u001b[0m\u001b[0;34m,\u001b[0m \u001b[0;36m9\u001b[0m\u001b[0;34m]\u001b[0m\u001b[0;34m)\u001b[0m\u001b[0;34m\u001b[0m\u001b[0;34m\u001b[0m\u001b[0m\n\u001b[1;32m    644\u001b[0m     \"\"\"\n\u001b[0;32m--> 645\u001b[0;31m     \u001b[0m_savez\u001b[0m\u001b[0;34m(\u001b[0m\u001b[0mfile\u001b[0m\u001b[0;34m,\u001b[0m \u001b[0margs\u001b[0m\u001b[0;34m,\u001b[0m \u001b[0mkwds\u001b[0m\u001b[0;34m,\u001b[0m \u001b[0;32mFalse\u001b[0m\u001b[0;34m)\u001b[0m\u001b[0;34m\u001b[0m\u001b[0;34m\u001b[0m\u001b[0m\n\u001b[0m\u001b[1;32m    646\u001b[0m \u001b[0;34m\u001b[0m\u001b[0m\n\u001b[1;32m    647\u001b[0m \u001b[0;34m\u001b[0m\u001b[0m\n",
      "\u001b[0;32m/glade/u/apps/dav/opt/python/3.7.9/gnu/9.1.0/pkg-library/20201220/lib/python3.7/site-packages/numpy/lib/npyio.py\u001b[0m in \u001b[0;36m_savez\u001b[0;34m(file, args, kwds, compress, allow_pickle, pickle_kwargs)\u001b[0m\n\u001b[1;32m    752\u001b[0m                 format.write_array(fid, val,\n\u001b[1;32m    753\u001b[0m                                    \u001b[0mallow_pickle\u001b[0m\u001b[0;34m=\u001b[0m\u001b[0mallow_pickle\u001b[0m\u001b[0;34m,\u001b[0m\u001b[0;34m\u001b[0m\u001b[0;34m\u001b[0m\u001b[0m\n\u001b[0;32m--> 754\u001b[0;31m                                    pickle_kwargs=pickle_kwargs)\n\u001b[0m\u001b[1;32m    755\u001b[0m     \u001b[0;32melse\u001b[0m\u001b[0;34m:\u001b[0m\u001b[0;34m\u001b[0m\u001b[0;34m\u001b[0m\u001b[0m\n\u001b[1;32m    756\u001b[0m         \u001b[0;31m# Stage arrays in a temporary file on disk, before writing to zip.\u001b[0m\u001b[0;34m\u001b[0m\u001b[0;34m\u001b[0m\u001b[0;34m\u001b[0m\u001b[0m\n",
      "\u001b[0;32m/glade/u/apps/dav/opt/python/3.7.9/gnu/9.1.0/pkg-library/20201220/lib/python3.7/site-packages/numpy/lib/format.py\u001b[0m in \u001b[0;36mwrite_array\u001b[0;34m(fp, array, version, allow_pickle, pickle_kwargs)\u001b[0m\n\u001b[1;32m    690\u001b[0m                     \u001b[0marray\u001b[0m\u001b[0;34m,\u001b[0m \u001b[0mflags\u001b[0m\u001b[0;34m=\u001b[0m\u001b[0;34m[\u001b[0m\u001b[0;34m'external_loop'\u001b[0m\u001b[0;34m,\u001b[0m \u001b[0;34m'buffered'\u001b[0m\u001b[0;34m,\u001b[0m \u001b[0;34m'zerosize_ok'\u001b[0m\u001b[0;34m]\u001b[0m\u001b[0;34m,\u001b[0m\u001b[0;34m\u001b[0m\u001b[0;34m\u001b[0m\u001b[0m\n\u001b[1;32m    691\u001b[0m                     buffersize=buffersize, order='C'):\n\u001b[0;32m--> 692\u001b[0;31m                 \u001b[0mfp\u001b[0m\u001b[0;34m.\u001b[0m\u001b[0mwrite\u001b[0m\u001b[0;34m(\u001b[0m\u001b[0mchunk\u001b[0m\u001b[0;34m.\u001b[0m\u001b[0mtobytes\u001b[0m\u001b[0;34m(\u001b[0m\u001b[0;34m'C'\u001b[0m\u001b[0;34m)\u001b[0m\u001b[0;34m)\u001b[0m\u001b[0;34m\u001b[0m\u001b[0;34m\u001b[0m\u001b[0m\n\u001b[0m\u001b[1;32m    693\u001b[0m \u001b[0;34m\u001b[0m\u001b[0m\n\u001b[1;32m    694\u001b[0m \u001b[0;34m\u001b[0m\u001b[0m\n",
      "\u001b[0;32m/glade/u/apps/dav/opt/python/3.7.9/gnu/9.1.0/lib/python3.7/zipfile.py\u001b[0m in \u001b[0;36mwrite\u001b[0;34m(self, data)\u001b[0m\n\u001b[1;32m   1125\u001b[0m         \u001b[0mnbytes\u001b[0m \u001b[0;34m=\u001b[0m \u001b[0mlen\u001b[0m\u001b[0;34m(\u001b[0m\u001b[0mdata\u001b[0m\u001b[0;34m)\u001b[0m\u001b[0;34m\u001b[0m\u001b[0;34m\u001b[0m\u001b[0m\n\u001b[1;32m   1126\u001b[0m         \u001b[0mself\u001b[0m\u001b[0;34m.\u001b[0m\u001b[0m_file_size\u001b[0m \u001b[0;34m+=\u001b[0m \u001b[0mnbytes\u001b[0m\u001b[0;34m\u001b[0m\u001b[0;34m\u001b[0m\u001b[0m\n\u001b[0;32m-> 1127\u001b[0;31m         \u001b[0mself\u001b[0m\u001b[0;34m.\u001b[0m\u001b[0m_crc\u001b[0m \u001b[0;34m=\u001b[0m \u001b[0mcrc32\u001b[0m\u001b[0;34m(\u001b[0m\u001b[0mdata\u001b[0m\u001b[0;34m,\u001b[0m \u001b[0mself\u001b[0m\u001b[0;34m.\u001b[0m\u001b[0m_crc\u001b[0m\u001b[0;34m)\u001b[0m\u001b[0;34m\u001b[0m\u001b[0;34m\u001b[0m\u001b[0m\n\u001b[0m\u001b[1;32m   1128\u001b[0m         \u001b[0;32mif\u001b[0m \u001b[0mself\u001b[0m\u001b[0;34m.\u001b[0m\u001b[0m_compressor\u001b[0m\u001b[0;34m:\u001b[0m\u001b[0;34m\u001b[0m\u001b[0;34m\u001b[0m\u001b[0m\n\u001b[1;32m   1129\u001b[0m             \u001b[0mdata\u001b[0m \u001b[0;34m=\u001b[0m \u001b[0mself\u001b[0m\u001b[0;34m.\u001b[0m\u001b[0m_compressor\u001b[0m\u001b[0;34m.\u001b[0m\u001b[0mcompress\u001b[0m\u001b[0;34m(\u001b[0m\u001b[0mdata\u001b[0m\u001b[0;34m)\u001b[0m\u001b[0;34m\u001b[0m\u001b[0;34m\u001b[0m\u001b[0m\n",
      "\u001b[0;31mKeyboardInterrupt\u001b[0m: "
     ]
    }
   ],
   "source": [
    "np.savez(out_dir + 'UV10_'+str(YYYY)+'_CONUS404.npz',\n",
    "        wrf_uv10 = wrf_uv10,\n",
    "        wrf_uv10_mean = wrf_uv10_mean,\n",
    "        metrics = metrics,\n",
    "        TimeHH = TimeHH,\n",
    "        lon_wrf = lon_wrf,\n",
    "        lat_wrf = lat_wrf)"
   ]
  },
  {
   "cell_type": "code",
   "execution_count": null,
   "metadata": {},
   "outputs": [],
   "source": []
  }
 ],
 "metadata": {
  "kernelspec": {
   "display_name": "Python 3",
   "language": "python",
   "name": "python3"
  },
  "language_info": {
   "codemirror_mode": {
    "name": "ipython",
    "version": 3
   },
   "file_extension": ".py",
   "mimetype": "text/x-python",
   "name": "python",
   "nbconvert_exporter": "python",
   "pygments_lexer": "ipython3",
   "version": "3.7.9"
  }
 },
 "nbformat": 4,
 "nbformat_minor": 4
}
